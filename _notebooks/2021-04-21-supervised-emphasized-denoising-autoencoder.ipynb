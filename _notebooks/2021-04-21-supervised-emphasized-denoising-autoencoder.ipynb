{
 "cells": [
  {
   "cell_type": "markdown",
   "metadata": {
    "ExecuteTime": {
     "end_time": "2021-04-26T00:18:15.156301Z",
     "start_time": "2021-04-26T00:18:15.148926Z"
    }
   },
   "source": [
    "# Supervised Emphasized Denoising AutoEncoder\n",
    "> A tutorial of supervised emphasized Denoising AutoEncoder (DAE)\n",
    "\n",
    "- toc: true \n",
    "- badges: true\n",
    "- comments: true\n",
    "- categories: [notebook, kaggle]"
   ]
  },
  {
   "cell_type": "markdown",
   "metadata": {},
   "source": [
    "This notebook was originally published [here](https://www.kaggle.com/jeongyoonlee/supervised-emphasized-denoising-autoencoder) at Kaggle.\n",
    "\n",
    "---\n",
    "\n",
    "In this notebook, I will show how to build supervised emphasized Denoising AutoEncoder (DAE) with Keras. With pseudo label, we can train a classifier and the DAE together instead of training them separately as done in previous TPS competitions.\n",
    "\n",
    "If you're interested in how different components of DAE (denoising, stacked layers, emphasis, etc.) contribute to its performance, please check out [Vincent et al. (2010) \"Stacked Denoising Autoencoders: Learning Useful Representations in a Deep Network with a Local Denoising Criterion\", JMLR](https://www.jmlr.org/papers/volume11/vincent10a/vincent10a.pdf).\n",
    "\n",
    "This notebook is built on top of my previous notebook, [AutoEncoder + Pseudo Label + AutoLGB](https://www.kaggle.com/jeongyoonlee/autoencoder-pseudo-label-autolgb/). The first part (section 1, 2, 3 and 5) of the notebook is the same as the previous one. \n",
    "\n",
    "The contents of the notebook are as follows:\n",
    "1. **Package Installation**: Installing latest version of `Kaggler` using `Pip`.\n",
    "2. **Feature Engineering**: [code](https://www.kaggle.com/udbhavpangotra/tps-apr21-eda-model) by @udbhavpangotra\n",
    "3. **Feature Transformation**: Using `kaggler.preprocessing.LabelEncoder` to impute missing values and group rare categories automatically.\n",
    "4. **Stacked Emphasized Denoising AutoEncoder (DAE)**: Adding random noise mask and **emphasized** version of AutoEncoder, called \"Embphasized Denoising AutoEncoder\".\n",
    "5. **LightGBM Model Training**: 5-fold CV + Pseudo label from @hiro5299834's [data](https://www.kaggle.com/hiro5299834/tps-apr-2021-voting-pseudo-labeling) + `kaggler.model.AutoLGB`'s feature selection and hyperparameter optimization\n",
    "6. **Supervised DAE**: Training the classifier and DAE simultaneously.\n"
   ]
  },
  {
   "cell_type": "markdown",
   "metadata": {},
   "source": [
    "# Part 1: DAE + AutoLGB"
   ]
  },
  {
   "cell_type": "markdown",
   "metadata": {},
   "source": [
    "## Load Libraries and Install `Kaggler`"
   ]
  },
  {
   "cell_type": "code",
   "execution_count": null,
   "metadata": {
    "_cell_guid": "b1076dfc-b9ad-4769-8c92-a6c4dae69d19",
    "_kg_hide-input": true,
    "_uuid": "8f2839f25d086af736a60e9eeb907d3b93b6e0e5",
    "scrolled": true
   },
   "outputs": [],
   "source": [
    "# This Python 3 environment comes with many helpful analytics libraries installed\n",
    "# It is defined by the kaggle/python Docker image: https://github.com/kaggle/docker-python\n",
    "# For example, here's several helpful packages to load\n",
    "\n",
    "import numpy as np # linear algebra\n",
    "import pandas as pd # data processing, CSV file I/O (e.g. pd.read_csv)\n",
    "\n",
    "# Input data files are available in the read-only \"../input/\" directory\n",
    "# For example, running this (by clicking run or pressing Shift+Enter) will list all files under the input directory\n",
    "\n",
    "import os\n",
    "for dirname, _, filenames in os.walk('/kaggle/input'):\n",
    "    for filename in filenames:\n",
    "        print(os.path.join(dirname, filename))\n",
    "\n",
    "# You can write up to 20GB to the current directory (/kaggle/working/) that gets preserved as output when you create a version using \"Save & Run All\" \n",
    "# You can also write temporary files to /kaggle/temp/, but they won't be saved outside of the current session"
   ]
  },
  {
   "cell_type": "code",
   "execution_count": null,
   "metadata": {},
   "outputs": [],
   "source": [
    "import lightgbm as lgb\n",
    "from matplotlib import pyplot as plt\n",
    "import numpy as np\n",
    "import pandas as pd\n",
    "from pathlib import Path\n",
    "import tensorflow as tf\n",
    "from tensorflow import keras\n",
    "from tensorflow.keras import backend as K\n",
    "from tensorflow.keras.losses import mean_squared_error\n",
    "from tensorflow.keras.metrics import AUC\n",
    "from tensorflow.python.keras.utils import control_flow_util\n",
    "import seaborn as sns\n",
    "from sklearn.model_selection import StratifiedKFold\n",
    "from sklearn.preprocessing import StandardScaler\n",
    "from sklearn.metrics import roc_auc_score, confusion_matrix\n",
    "import warnings"
   ]
  },
  {
   "cell_type": "code",
   "execution_count": null,
   "metadata": {
    "_kg_hide-output": true
   },
   "outputs": [],
   "source": [
    "!pip install kaggler"
   ]
  },
  {
   "cell_type": "code",
   "execution_count": null,
   "metadata": {},
   "outputs": [],
   "source": [
    "import kaggler\n",
    "from kaggler.model import AutoLGB\n",
    "from kaggler.preprocessing import LabelEncoder\n",
    "\n",
    "print(f'Kaggler: {kaggler.__version__}')\n",
    "print(f'TensorFlow: {tf.__version__}')"
   ]
  },
  {
   "cell_type": "code",
   "execution_count": null,
   "metadata": {},
   "outputs": [],
   "source": [
    "warnings.simplefilter('ignore')\n",
    "plt.style.use('fivethirtyeight')\n",
    "pd.set_option('max_columns', 100)"
   ]
  },
  {
   "cell_type": "markdown",
   "metadata": {},
   "source": [
    "## Feature Engineering (ref: [code](https://www.kaggle.com/udbhavpangotra/tps-apr21-eda-model) by @udbhavpangotra)"
   ]
  },
  {
   "cell_type": "code",
   "execution_count": null,
   "metadata": {},
   "outputs": [],
   "source": [
    "data_dir = Path('/kaggle/input/tabular-playground-series-apr-2021/')\n",
    "trn_file = data_dir / 'train.csv'\n",
    "tst_file = data_dir / 'test.csv'\n",
    "sample_file = data_dir / 'sample_submission.csv'\n",
    "pseudo_label_file = '/kaggle/input/tps-apr-2021-label/voting_submission_from_5_best.csv'\n",
    "\n",
    "target_col = 'Survived'\n",
    "id_col = 'PassengerId'\n",
    "\n",
    "feature_name = 'dae'\n",
    "algo_name = 'lgb'\n",
    "model_name = f'{algo_name}_{feature_name}'\n",
    "\n",
    "feature_file = f'{feature_name}.csv'\n",
    "predict_val_file = f'{model_name}.val.txt'\n",
    "predict_tst_file = f'{model_name}.tst.txt'\n",
    "submission_file = f'{model_name}.sub.csv'"
   ]
  },
  {
   "cell_type": "code",
   "execution_count": null,
   "metadata": {},
   "outputs": [],
   "source": [
    "trn = pd.read_csv(trn_file, index_col=id_col)\n",
    "tst = pd.read_csv(tst_file, index_col=id_col)\n",
    "sub = pd.read_csv(sample_file, index_col=id_col)\n",
    "pseudo_label = pd.read_csv(pseudo_label_file, index_col=id_col)\n",
    "print(trn.shape, tst.shape, sub.shape, pseudo_label.shape)"
   ]
  },
  {
   "cell_type": "code",
   "execution_count": null,
   "metadata": {},
   "outputs": [],
   "source": [
    "tst[target_col] = pseudo_label[target_col]\n",
    "n_trn = trn.shape[0]\n",
    "df = pd.concat([trn, tst], axis=0)\n",
    "df.head()"
   ]
  },
  {
   "cell_type": "code",
   "execution_count": null,
   "metadata": {},
   "outputs": [],
   "source": [
    "# Feature engineering code from https://www.kaggle.com/udbhavpangotra/tps-apr21-eda-model\n",
    "\n",
    "df['Embarked'] = df['Embarked'].fillna('No')\n",
    "df['Cabin'] = df['Cabin'].fillna('_')\n",
    "df['CabinType'] = df['Cabin'].apply(lambda x:x[0])\n",
    "df.Ticket = df.Ticket.map(lambda x:str(x).split()[0] if len(str(x).split()) > 1 else 'X')\n",
    "\n",
    "df['Age'].fillna(round(df['Age'].median()), inplace=True,)\n",
    "df['Age'] = df['Age'].apply(round).astype(int)\n",
    "\n",
    "df['Fare'].fillna(round(df['Fare'].median()), inplace=True,)\n",
    "\n",
    "df['FirstName'] = df['Name'].str.split(', ').str[0]\n",
    "df['SecondName'] = df['Name'].str.split(', ').str[1]\n",
    "\n",
    "df['n'] = 1\n",
    "\n",
    "gb = df.groupby('FirstName')\n",
    "df_names = gb['n'].sum()\n",
    "df['SameFirstName'] = df['FirstName'].apply(lambda x:df_names[x])\n",
    "\n",
    "gb = df.groupby('SecondName')\n",
    "df_names = gb['n'].sum()\n",
    "df['SameSecondName'] = df['SecondName'].apply(lambda x:df_names[x])\n",
    "\n",
    "df['Sex'] = (df['Sex'] == 'male').astype(int)\n",
    "\n",
    "df['FamilySize'] = df.SibSp + df.Parch + 1\n",
    "\n",
    "feature_cols = ['Pclass', 'Age','Embarked','Parch','SibSp','Fare','CabinType','Ticket','SameFirstName', 'SameSecondName', 'Sex',\n",
    "                'FamilySize', 'FirstName', 'SecondName']\n",
    "cat_cols = ['Pclass','Embarked','CabinType','Ticket', 'FirstName', 'SecondName']\n",
    "num_cols = [x for x in feature_cols if x not in cat_cols]\n",
    "print(len(feature_cols), len(cat_cols), len(num_cols))"
   ]
  },
  {
   "cell_type": "markdown",
   "metadata": {},
   "source": [
    "## Feature Transformation Using `Kaggler`"
   ]
  },
  {
   "cell_type": "code",
   "execution_count": null,
   "metadata": {},
   "outputs": [],
   "source": [
    "for col in ['SameFirstName', 'SameSecondName', 'Fare', 'FamilySize', 'Parch', 'SibSp']:\n",
    "    df[col] = np.log2(1 + df[col])\n",
    "    \n",
    "scaler = StandardScaler()\n",
    "df[num_cols] = scaler.fit_transform(df[num_cols])\n",
    "\n",
    "lbe = LabelEncoder(min_obs=50)\n",
    "df[cat_cols] = lbe.fit_transform(df[cat_cols]).astype(int)"
   ]
  },
  {
   "cell_type": "markdown",
   "metadata": {},
   "source": [
    "## Emphasized Denoising AutoEncoder (DAE) Using `Keras`"
   ]
  },
  {
   "cell_type": "code",
   "execution_count": null,
   "metadata": {},
   "outputs": [],
   "source": [
    "encoding_dim = 128\n",
    "masking_prob = .2\n",
    "emphasis_ratio = 2.\n",
    "seed = 42\n",
    "\n",
    "def get_dae(encoding_dim, dropout=.2):\n",
    "    num_dim = len(num_cols)\n",
    "    num_input = keras.layers.Input((num_dim,), name='num_input')\n",
    "    cat_inputs = []\n",
    "    cat_embs = []\n",
    "    emb_dims = 0\n",
    "    for col in cat_cols:\n",
    "        cat_input = keras.layers.Input((1,), name=f'{col}_input')\n",
    "        emb_dim = max(8, int(np.log2(1 + df[col].nunique()) * 4))\n",
    "        cat_emb = keras.layers.Embedding(input_dim=df[col].max() + 1, output_dim=emb_dim)(cat_input)\n",
    "        cat_emb = keras.layers.Dropout(dropout)(cat_emb)\n",
    "        cat_emb = keras.layers.Reshape((emb_dim,))(cat_emb)\n",
    "\n",
    "        cat_inputs.append(cat_input)\n",
    "        cat_embs.append(cat_emb)\n",
    "        emb_dims += emb_dim\n",
    "\n",
    "    merged_inputs = keras.layers.Concatenate()([num_input] + cat_embs)\n",
    "    batch_size, merged_inputs_dim = merged_inputs.get_shape()\n",
    "    training = K.learning_phase()\n",
    "    def mask_inputs():\n",
    "        mask = tf.random.stateless_binomial(shape=(batch_size, merged_inputs_dim),\n",
    "                                            seed=seed,\n",
    "                                            counts=tf.ones((merged_inputs_dim,)),\n",
    "                                            probs=[masking_prob] * merged_inputs_dim)\n",
    "\n",
    "        return tf.where(mask == 1, tf.zeros_like(merged_inputs), merged_inputs)\n",
    "\n",
    "    masked_inputs = control_flow_util.smart_cond(training,\n",
    "                                                 mask_inputs,\n",
    "                                                 lambda: merged_inputs)    \n",
    "\n",
    "    encoded = keras.layers.Dense(encoding_dim, activation='relu')(masked_inputs)\n",
    "    encoded = keras.layers.Dropout(dropout)(encoded)\n",
    "    encoded = keras.layers.Dense(encoding_dim, activation='relu')(encoded)\n",
    "    encoded = keras.layers.Dropout(dropout)(encoded)    \n",
    "    encoded = keras.layers.Dense(encoding_dim, activation='relu')(encoded)\n",
    "    \n",
    "    decoded = keras.layers.Dense(encoding_dim, activation='relu')(encoded)\n",
    "    decoded = keras.layers.Dropout(dropout)(decoded)\n",
    "    decoded = keras.layers.Dense(encoding_dim, activation='relu')(decoded)\n",
    "    decoded = keras.layers.Dropout(dropout)(decoded)    \n",
    "    decoded = keras.layers.Dense(num_dim + emb_dims, activation='linear')(decoded)\n",
    "\n",
    "    encoder = keras.Model([num_input] + cat_inputs, encoded)\n",
    "    ae = keras.Model([num_input] + cat_inputs, decoded, name='ae')\n",
    "    \n",
    "    reconstruction_loss = K.mean(\n",
    "        # masked inputs\n",
    "        mean_squared_error(merged_inputs,\n",
    "                           tf.where(merged_inputs != masked_inputs,\n",
    "                                    decoded, merged_inputs)) / masking_prob * emphasis_ratio \\\n",
    "        # original inputs\n",
    "       + mean_squared_error(merged_inputs,\n",
    "                            tf.where(merged_inputs == masked_inputs,\n",
    "                                     decoded, merged_inputs)) / (1. - masking_prob)\n",
    "    )\n",
    "    ae.add_loss(reconstruction_loss)\n",
    "    ae.compile(optimizer='adam')\n",
    "    return ae, encoder"
   ]
  },
  {
   "cell_type": "code",
   "execution_count": null,
   "metadata": {},
   "outputs": [],
   "source": [
    "ae, encoder = get_dae(encoding_dim)\n",
    "ae.summary()"
   ]
  },
  {
   "cell_type": "code",
   "execution_count": null,
   "metadata": {
    "_kg_hide-output": true
   },
   "outputs": [],
   "source": [
    "inputs = [df[num_cols].values] + [df[x].values for x in cat_cols]\n",
    "ae.fit(inputs, inputs,\n",
    "      epochs=30,\n",
    "      batch_size=16384,\n",
    "      shuffle=True,\n",
    "      validation_split=.2)"
   ]
  },
  {
   "cell_type": "code",
   "execution_count": null,
   "metadata": {},
   "outputs": [],
   "source": [
    "encoding = encoder.predict(inputs)\n",
    "print(encoding.shape)\n",
    "np.savetxt(feature_file, encoding, fmt='%.6f', delimiter=',')"
   ]
  },
  {
   "cell_type": "markdown",
   "metadata": {},
   "source": [
    "## Model Training + Feature Selection + HPO Using `Kaggler`'s `AutoLGB`"
   ]
  },
  {
   "cell_type": "code",
   "execution_count": null,
   "metadata": {},
   "outputs": [],
   "source": [
    "n_fold = 5\n",
    "X = pd.concat((df[feature_cols], \n",
    "               pd.DataFrame(encoding, columns=[f'enc_{x}' for x in range(encoding_dim)])), axis=1)\n",
    "y = df[target_col]\n",
    "X_tst = X.iloc[n_trn:]\n",
    "\n",
    "cv = StratifiedKFold(n_splits=n_fold, shuffle=True, random_state=seed)\n",
    "p = np.zeros_like(y, dtype=float)\n",
    "p_tst = np.zeros((tst.shape[0],))\n",
    "for i, (i_trn, i_val) in enumerate(cv.split(X, y)):\n",
    "    if i == 0:\n",
    "        clf = AutoLGB(objective='binary', metric='auc', random_state=seed)\n",
    "        clf.tune(X.iloc[i_trn], y[i_trn])\n",
    "        features = clf.features\n",
    "        params = clf.params\n",
    "        n_best = clf.n_best\n",
    "        print(f'{n_best}')\n",
    "        print(f'{params}')\n",
    "        print(f'{features}')\n",
    "    \n",
    "    trn_data = lgb.Dataset(X.iloc[i_trn], y[i_trn])\n",
    "    val_data = lgb.Dataset(X.iloc[i_val], y[i_val])\n",
    "    clf = lgb.train(params, trn_data, n_best, val_data, verbose_eval=100)\n",
    "    p[i_val] = clf.predict(X.iloc[i_val])\n",
    "    p_tst += clf.predict(X_tst) / n_fold\n",
    "    print(f'CV #{i + 1} AUC: {roc_auc_score(y[i_val], p[i_val]):.6f}')\n",
    "\n",
    "np.savetxt(predict_val_file, p, fmt='%.6f')\n",
    "np.savetxt(predict_tst_file, p_tst, fmt='%.6f')"
   ]
  },
  {
   "cell_type": "code",
   "execution_count": null,
   "metadata": {},
   "outputs": [],
   "source": [
    "print(f'  CV AUC: {roc_auc_score(y, p):.6f}')\n",
    "print(f'Test AUC: {roc_auc_score(pseudo_label[target_col], p_tst)}')"
   ]
  },
  {
   "cell_type": "markdown",
   "metadata": {},
   "source": [
    "## Submission File for DAE + AutoLGB"
   ]
  },
  {
   "cell_type": "code",
   "execution_count": null,
   "metadata": {},
   "outputs": [],
   "source": [
    "n_pos = int(0.34911 * tst.shape[0])\n",
    "th = sorted(p_tst, reverse=True)[n_pos]\n",
    "print(th)\n",
    "confusion_matrix(pseudo_label[target_col], (p_tst > th).astype(int))"
   ]
  },
  {
   "cell_type": "code",
   "execution_count": null,
   "metadata": {},
   "outputs": [],
   "source": [
    "sub[target_col] = (p_tst > th).astype(int)\n",
    "sub.to_csv(submission_file)"
   ]
  },
  {
   "cell_type": "markdown",
   "metadata": {},
   "source": [
    "# Part 2: Supervised DAE"
   ]
  },
  {
   "cell_type": "code",
   "execution_count": null,
   "metadata": {},
   "outputs": [],
   "source": [
    "feature_name = 'dae'\n",
    "algo_name = 'sdae'\n",
    "model_name = f'{algo_name}_{feature_name}'\n",
    "\n",
    "feature_file = f'{feature_name}.csv'\n",
    "predict_val_file = f'{model_name}.val.txt'\n",
    "predict_tst_file = f'{model_name}.tst.txt'\n",
    "submission_file = f'{model_name}.sub.csv'"
   ]
  },
  {
   "cell_type": "markdown",
   "metadata": {},
   "source": [
    "## Supervised DAE with `Keras`"
   ]
  },
  {
   "cell_type": "markdown",
   "metadata": {},
   "source": [
    "We are adding a classifier **head** to the DAE network. It requires the additional loss and metric for the classifier in addition to the `reconstruction_loss` for DAE."
   ]
  },
  {
   "cell_type": "code",
   "execution_count": null,
   "metadata": {},
   "outputs": [],
   "source": [
    "def get_sdae(encoding_dim, dropout=.2):\n",
    "    num_dim = len(num_cols)\n",
    "    num_input = keras.layers.Input((num_dim,), name='num_input')\n",
    "    cat_inputs = []\n",
    "    cat_embs = []\n",
    "    emb_dims = 0\n",
    "    for col in cat_cols:\n",
    "        cat_input = keras.layers.Input((1,), name=f'{col}_input')\n",
    "        emb_dim = max(8, int(np.log2(1 + df[col].nunique()) * 4))\n",
    "        cat_emb = keras.layers.Embedding(input_dim=df[col].max() + 1, output_dim=emb_dim)(cat_input)\n",
    "        cat_emb = keras.layers.Dropout(dropout)(cat_emb)\n",
    "        cat_emb = keras.layers.Reshape((emb_dim,))(cat_emb)\n",
    "\n",
    "        cat_inputs.append(cat_input)\n",
    "        cat_embs.append(cat_emb)\n",
    "        emb_dims += emb_dim\n",
    "    \n",
    "    inputs = [num_input] + cat_inputs\n",
    "    merged_inputs = keras.layers.Concatenate()([num_input] + cat_embs)\n",
    "    \n",
    "    # masking\n",
    "    batch_size, merged_inputs_dim = merged_inputs.get_shape()\n",
    "    training = K.learning_phase()\n",
    "    def mask_inputs():\n",
    "        mask = tf.random.stateless_binomial(shape=(batch_size, merged_inputs_dim),\n",
    "                                            seed=seed,\n",
    "                                            counts=tf.ones((merged_inputs_dim,)),\n",
    "                                            probs=[masking_prob] * merged_inputs_dim)\n",
    "\n",
    "        return tf.where(mask == 1, tf.zeros_like(merged_inputs), merged_inputs)\n",
    "\n",
    "    masked_inputs = control_flow_util.smart_cond(training,\n",
    "                                                 mask_inputs,\n",
    "                                                 lambda: merged_inputs)    \n",
    "\n",
    "    # encoder\n",
    "    encoded_1 = keras.layers.Dense(encoding_dim, activation='relu')(masked_inputs)\n",
    "    encoded_1 = keras.layers.Dropout(dropout)(encoded_1)\n",
    "    encoded_2 = keras.layers.Dense(encoding_dim, activation='relu')(encoded_1)\n",
    "    encoded_2 = keras.layers.Dropout(dropout)(encoded_2)    \n",
    "    encoded_3 = keras.layers.Dense(encoding_dim, activation='relu')(encoded_2)\n",
    "    \n",
    "    encoded_concat = keras.layers.Concatenate()([encoded_1, encoded_2, encoded_3])\n",
    "    encoder = keras.Model(inputs, encoded_concat)\n",
    "    \n",
    "    decoded = keras.layers.Dense(encoding_dim, activation='relu')(encoded_3)\n",
    "    decoded = keras.layers.Dropout(dropout)(decoded)\n",
    "    decoded = keras.layers.Dense(encoding_dim, activation='relu')(decoded)\n",
    "    decoded = keras.layers.Dropout(dropout)(decoded)    \n",
    "    decoded = keras.layers.Dense(num_dim + emb_dims, activation='linear')(decoded)\n",
    "\n",
    "    ae = keras.Model([num_input] + cat_inputs, decoded)\n",
    "    \n",
    "    # classifier\n",
    "    clf_encoded_input = keras.Input((encoding_dim * 3,))\n",
    "    x = keras.layers.Dense(encoding_dim, 'relu')(clf_encoded_input)\n",
    "    x = keras.layers.Dropout(dropout)(x)\n",
    "    clf_output = keras.layers.Dense(1, activation='sigmoid')(x)\n",
    "    clf = keras.Model(inputs=clf_encoded_input, outputs=clf_output, name='clf')\n",
    "    \n",
    "    outputs = [ae(inputs), clf(encoder(inputs))]\n",
    "    model = keras.Model(inputs, outputs, name='sdae')\n",
    "    \n",
    "    reconstruction_loss = K.mean(\n",
    "        # masked inputs\n",
    "        mean_squared_error(merged_inputs,\n",
    "                           tf.where(merged_inputs != masked_inputs,\n",
    "                                    decoded, merged_inputs)) / masking_prob * emphasis_ratio \\\n",
    "        # original inputs\n",
    "       + mean_squared_error(merged_inputs,\n",
    "                            tf.where(merged_inputs == masked_inputs,\n",
    "                                     decoded, merged_inputs)) / (1. - masking_prob)\n",
    "    )\n",
    "    model.add_loss(reconstruction_loss)\n",
    "    model.compile(optimizer='adam', loss={'clf': 'binary_crossentropy'}, metrics={'clf': [AUC()]})\n",
    "    return model, encoder"
   ]
  },
  {
   "cell_type": "code",
   "execution_count": null,
   "metadata": {},
   "outputs": [],
   "source": [
    "sdae, encoder = get_sdae(encoding_dim)\n",
    "sdae.summary()"
   ]
  },
  {
   "cell_type": "markdown",
   "metadata": {},
   "source": [
    "## Model Training: Supervised DAE with 5-CV"
   ]
  },
  {
   "cell_type": "code",
   "execution_count": null,
   "metadata": {
    "_kg_hide-output": true
   },
   "outputs": [],
   "source": [
    "n_fold = 5\n",
    "X = df[feature_cols]\n",
    "y = df[target_col]\n",
    "X_tst = X.iloc[n_trn:]\n",
    "inputs_tst = [X_tst[num_cols].values] + [X_tst[x].values for x in cat_cols]\n",
    "\n",
    "cv = StratifiedKFold(n_splits=n_fold, shuffle=True, random_state=seed)\n",
    "p = np.zeros_like(y, dtype=float)\n",
    "p_tst = np.zeros((tst.shape[0],))\n",
    "for i, (i_trn, i_val) in enumerate(cv.split(X, y)):\n",
    "    X_trn = X.iloc[i_trn]\n",
    "    X_val = X.iloc[i_val]\n",
    "\n",
    "    inputs_trn = [X[num_cols].values[i_trn]] + [X[x].values[i_trn] for x in cat_cols]\n",
    "    inputs_val = [X[num_cols].values[i_val]] + [X[x].values[i_val] for x in cat_cols]\n",
    "    sdae, _ = get_sdae(encoding_dim)\n",
    "    sdae.fit(inputs_trn, y[i_trn],\n",
    "              epochs=20,\n",
    "              batch_size=16384,\n",
    "              shuffle=True,\n",
    "              validation_data=(inputs_val, y[i_val]))\n",
    "    p[i_val] = sdae.predict(inputs_val)[1].flatten()\n",
    "    p_tst += sdae.predict(inputs_tst)[1].flatten() / n_fold\n",
    "    print(f'CV #{i + 1} AUC: {roc_auc_score(y[i_val], p[i_val]):.6f}')\n",
    "\n",
    "np.savetxt(predict_val_file, p, fmt='%.6f')\n",
    "np.savetxt(predict_tst_file, p_tst, fmt='%.6f')"
   ]
  },
  {
   "cell_type": "code",
   "execution_count": null,
   "metadata": {},
   "outputs": [],
   "source": [
    "print(f'  CV AUC: {roc_auc_score(y, p):.6f}')\n",
    "print(f'Test AUC: {roc_auc_score(pseudo_label[target_col], p_tst)}')"
   ]
  },
  {
   "cell_type": "code",
   "execution_count": null,
   "metadata": {},
   "outputs": [],
   "source": [
    "n_pos = int(0.34911 * tst.shape[0])\n",
    "th = sorted(p_tst, reverse=True)[n_pos]\n",
    "print(th)\n",
    "confusion_matrix(pseudo_label[target_col], (p_tst > th).astype(int))"
   ]
  },
  {
   "cell_type": "code",
   "execution_count": null,
   "metadata": {},
   "outputs": [],
   "source": [
    "sub[target_col] = (p_tst > th).astype(int)\n",
    "sub.to_csv(submission_file)"
   ]
  },
  {
   "cell_type": "markdown",
   "metadata": {},
   "source": [
    "# Part 3: Simple Ensemble"
   ]
  },
  {
   "cell_type": "code",
   "execution_count": null,
   "metadata": {},
   "outputs": [],
   "source": [
    "submission_file = 'simple_ensemble_dae.csv'\n",
    "model_names = ['lgb_dae', 'sdae_dae']\n",
    "predict_val_files = [f'{x}.val.txt' for x in model_names]\n",
    "predict_tst_files = [f'{x}.tst.txt' for x in model_names]\n",
    "dict_val_predict = {}\n",
    "dict_tst_predict = {}\n",
    "for name, val_file, tst_file in zip(model_name, predict_val_files, predict_tst_files):\n",
    "    dict_val_predict[name] = np.loadtxt(val_file)\n",
    "    dict_tst_predict[name] = np.loadtxt(tst_file)\n",
    "    \n",
    "p = pd.DataFrame(dict_val_predict).mean(axis=1).values\n",
    "p_tst = pd.DataFrame(dict_tst_predict).mean(axis=1).values\n",
    "print(f'  CV AUC: {roc_auc_score(y, p):.6f}')\n",
    "print(f'Test AUC: {roc_auc_score(pseudo_label[target_col], p_tst)}')"
   ]
  },
  {
   "cell_type": "code",
   "execution_count": null,
   "metadata": {},
   "outputs": [],
   "source": [
    "n_pos = int(0.34911 * tst.shape[0])\n",
    "th = sorted(p_tst, reverse=True)[n_pos]\n",
    "print(th)\n",
    "confusion_matrix(pseudo_label[target_col], (p_tst > th).astype(int))"
   ]
  },
  {
   "cell_type": "code",
   "execution_count": null,
   "metadata": {},
   "outputs": [],
   "source": [
    "sub[target_col] = (p_tst > th).astype(int)\n",
    "sub.to_csv(submission_file)"
   ]
  },
  {
   "cell_type": "markdown",
   "metadata": {},
   "source": [
    "If you find it helpful, please upvote the notebook and give a star to [Kaggler](http://github.com/jeongyoonlee/Kaggler). If you have questions and/or feature requests for Kaggler, please post them as Issue in the Kaggler GitHub repository.\n",
    "\n",
    "Happy Kaggling!"
   ]
  },
  {
   "cell_type": "code",
   "execution_count": null,
   "metadata": {},
   "outputs": [],
   "source": []
  }
 ],
 "metadata": {
  "kernelspec": {
   "display_name": "Python 3",
   "language": "python",
   "name": "python3"
  },
  "language_info": {
   "codemirror_mode": {
    "name": "ipython",
    "version": 3
   },
   "file_extension": ".py",
   "mimetype": "text/x-python",
   "name": "python",
   "nbconvert_exporter": "python",
   "pygments_lexer": "ipython3",
   "version": "3.8.8"
  },
  "toc": {
   "base_numbering": 1,
   "nav_menu": {},
   "number_sections": true,
   "sideBar": true,
   "skip_h1_title": false,
   "title_cell": "Table of Contents",
   "title_sidebar": "Contents",
   "toc_cell": false,
   "toc_position": {},
   "toc_section_display": true,
   "toc_window_display": false
  }
 },
 "nbformat": 4,
 "nbformat_minor": 4
}
